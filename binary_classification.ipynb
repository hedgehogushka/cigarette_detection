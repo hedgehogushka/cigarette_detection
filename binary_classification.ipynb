{
 "cells": [
  {
   "cell_type": "markdown",
   "source": [
    "### Предобработка данных. \n",
    "\n",
    "В данной работе я решал задачу бинарной классификации изображений по признаку наличия сигарет на них. Прежде всего я собрал датасет с изображениями. Эта деталь решения находится в файле под названием data_maker.py и влючает в себя парсинг сайта, разметку полученных объектов и сохранение информации о них в файл под названием cigarette_classification.csv\n",
    "\n",
    "Ниже представлены библиотеки, которые я использовал в своём решении. Я пользовался фреймворком PyTorch, обучал модель, основанную на свёрточных нейронный сетях из семейства ResNet. Инструментом для обработки датасета стала библиотека pandas."
   ],
   "metadata": {
    "collapsed": false
   },
   "id": "8637513841c36dbb"
  },
  {
   "cell_type": "code",
   "execution_count": 142,
   "outputs": [],
   "source": [
    "import numpy as np\n",
    "import pandas as pd\n",
    "import torchvision.models as models\n",
    "import torch.nn as nn \n",
    "import torchvision.transforms as transforms\n",
    "import torch\n",
    "from tqdm import tqdm\n",
    "from sklearn.metrics import f1_score, recall_score, precision_score, accuracy_score\n",
    "import matplotlib.pyplot as plt\n",
    "import numpy as np\n",
    "import torch.nn.functional as F\n",
    "import torch.optim as optim\n",
    "from PIL import Image\n",
    "from torch.utils.data import DataLoader\n"
   ],
   "metadata": {
    "collapsed": false,
    "ExecuteTime": {
     "end_time": "2024-10-17T12:41:13.945779900Z",
     "start_time": "2024-10-17T12:41:13.921530500Z"
    }
   },
   "id": "988567ed21f0e7ca"
  },
  {
   "cell_type": "markdown",
   "source": [
    "### Обработка данных\n",
    "\n",
    "В csv-файле содержится следующая информация об изображениях - метка, указывающая на наличие сигареты на нём (cigarettes если есть, и humans в противоположном случае) и путь до соответствующего изображения.  "
   ],
   "metadata": {
    "collapsed": false
   },
   "id": "e1cb39cac4f095bf"
  },
  {
   "cell_type": "code",
   "id": "initial_id",
   "metadata": {
    "collapsed": true,
    "ExecuteTime": {
     "end_time": "2024-10-16T19:58:17.428112600Z",
     "start_time": "2024-10-16T19:58:17.352329500Z"
    }
   },
   "source": [
    "data = pd.read_csv('cigarette_classification.csv')\n",
    "data = data.sample(frac=1).reset_index(drop=True)\n",
    "data"
   ],
   "outputs": [
    {
     "data": {
      "text/plain": "         picture                                               link\n0         humans  C:\\Users\\Даниил\\Downloads\\Homework\\Cigarettes\\...\n1     cigarettes  C:\\Users\\Даниил\\Downloads\\Homework\\Cigarettes\\...\n2         humans  C:\\Users\\Даниил\\Downloads\\Homework\\Cigarettes\\...\n3         humans  C:\\Users\\Даниил\\Downloads\\Homework\\Cigarettes\\...\n4     cigarettes  C:\\Users\\Даниил\\Downloads\\Homework\\Cigarettes\\...\n...          ...                                                ...\n1195  cigarettes  C:\\Users\\Даниил\\Downloads\\Homework\\Cigarettes\\...\n1196      humans  C:\\Users\\Даниил\\Downloads\\Homework\\Cigarettes\\...\n1197      humans  C:\\Users\\Даниил\\Downloads\\Homework\\Cigarettes\\...\n1198  cigarettes  C:\\Users\\Даниил\\Downloads\\Homework\\Cigarettes\\...\n1199      humans  C:\\Users\\Даниил\\Downloads\\Homework\\Cigarettes\\...\n\n[1200 rows x 2 columns]",
      "text/html": "<div>\n<style scoped>\n    .dataframe tbody tr th:only-of-type {\n        vertical-align: middle;\n    }\n\n    .dataframe tbody tr th {\n        vertical-align: top;\n    }\n\n    .dataframe thead th {\n        text-align: right;\n    }\n</style>\n<table border=\"1\" class=\"dataframe\">\n  <thead>\n    <tr style=\"text-align: right;\">\n      <th></th>\n      <th>picture</th>\n      <th>link</th>\n    </tr>\n  </thead>\n  <tbody>\n    <tr>\n      <th>0</th>\n      <td>humans</td>\n      <td>C:\\Users\\Даниил\\Downloads\\Homework\\Cigarettes\\...</td>\n    </tr>\n    <tr>\n      <th>1</th>\n      <td>cigarettes</td>\n      <td>C:\\Users\\Даниил\\Downloads\\Homework\\Cigarettes\\...</td>\n    </tr>\n    <tr>\n      <th>2</th>\n      <td>humans</td>\n      <td>C:\\Users\\Даниил\\Downloads\\Homework\\Cigarettes\\...</td>\n    </tr>\n    <tr>\n      <th>3</th>\n      <td>humans</td>\n      <td>C:\\Users\\Даниил\\Downloads\\Homework\\Cigarettes\\...</td>\n    </tr>\n    <tr>\n      <th>4</th>\n      <td>cigarettes</td>\n      <td>C:\\Users\\Даниил\\Downloads\\Homework\\Cigarettes\\...</td>\n    </tr>\n    <tr>\n      <th>...</th>\n      <td>...</td>\n      <td>...</td>\n    </tr>\n    <tr>\n      <th>1195</th>\n      <td>cigarettes</td>\n      <td>C:\\Users\\Даниил\\Downloads\\Homework\\Cigarettes\\...</td>\n    </tr>\n    <tr>\n      <th>1196</th>\n      <td>humans</td>\n      <td>C:\\Users\\Даниил\\Downloads\\Homework\\Cigarettes\\...</td>\n    </tr>\n    <tr>\n      <th>1197</th>\n      <td>humans</td>\n      <td>C:\\Users\\Даниил\\Downloads\\Homework\\Cigarettes\\...</td>\n    </tr>\n    <tr>\n      <th>1198</th>\n      <td>cigarettes</td>\n      <td>C:\\Users\\Даниил\\Downloads\\Homework\\Cigarettes\\...</td>\n    </tr>\n    <tr>\n      <th>1199</th>\n      <td>humans</td>\n      <td>C:\\Users\\Даниил\\Downloads\\Homework\\Cigarettes\\...</td>\n    </tr>\n  </tbody>\n</table>\n<p>1200 rows × 2 columns</p>\n</div>"
     },
     "execution_count": 22,
     "metadata": {},
     "output_type": "execute_result"
    }
   ],
   "execution_count": 22
  },
  {
   "cell_type": "markdown",
   "source": [
    "Переходим к более естественным числовым меткам - 1 и 0."
   ],
   "metadata": {
    "collapsed": false
   },
   "id": "843dbc3a51119a99"
  },
  {
   "cell_type": "code",
   "source": [
    "data['label'] = data['picture'].apply(lambda x: 1 if x == \"cigarettes\" else 0)\n",
    "data = data[['label', 'link']]\n",
    "data"
   ],
   "metadata": {
    "collapsed": false,
    "ExecuteTime": {
     "end_time": "2024-10-16T19:58:18.647494800Z",
     "start_time": "2024-10-16T19:58:18.540158300Z"
    }
   },
   "id": "32beaa39a719469d",
   "outputs": [
    {
     "data": {
      "text/plain": "      label                                               link\n0         0  C:\\Users\\Даниил\\Downloads\\Homework\\Cigarettes\\...\n1         1  C:\\Users\\Даниил\\Downloads\\Homework\\Cigarettes\\...\n2         0  C:\\Users\\Даниил\\Downloads\\Homework\\Cigarettes\\...\n3         0  C:\\Users\\Даниил\\Downloads\\Homework\\Cigarettes\\...\n4         1  C:\\Users\\Даниил\\Downloads\\Homework\\Cigarettes\\...\n...     ...                                                ...\n1195      1  C:\\Users\\Даниил\\Downloads\\Homework\\Cigarettes\\...\n1196      0  C:\\Users\\Даниил\\Downloads\\Homework\\Cigarettes\\...\n1197      0  C:\\Users\\Даниил\\Downloads\\Homework\\Cigarettes\\...\n1198      1  C:\\Users\\Даниил\\Downloads\\Homework\\Cigarettes\\...\n1199      0  C:\\Users\\Даниил\\Downloads\\Homework\\Cigarettes\\...\n\n[1200 rows x 2 columns]",
      "text/html": "<div>\n<style scoped>\n    .dataframe tbody tr th:only-of-type {\n        vertical-align: middle;\n    }\n\n    .dataframe tbody tr th {\n        vertical-align: top;\n    }\n\n    .dataframe thead th {\n        text-align: right;\n    }\n</style>\n<table border=\"1\" class=\"dataframe\">\n  <thead>\n    <tr style=\"text-align: right;\">\n      <th></th>\n      <th>label</th>\n      <th>link</th>\n    </tr>\n  </thead>\n  <tbody>\n    <tr>\n      <th>0</th>\n      <td>0</td>\n      <td>C:\\Users\\Даниил\\Downloads\\Homework\\Cigarettes\\...</td>\n    </tr>\n    <tr>\n      <th>1</th>\n      <td>1</td>\n      <td>C:\\Users\\Даниил\\Downloads\\Homework\\Cigarettes\\...</td>\n    </tr>\n    <tr>\n      <th>2</th>\n      <td>0</td>\n      <td>C:\\Users\\Даниил\\Downloads\\Homework\\Cigarettes\\...</td>\n    </tr>\n    <tr>\n      <th>3</th>\n      <td>0</td>\n      <td>C:\\Users\\Даниил\\Downloads\\Homework\\Cigarettes\\...</td>\n    </tr>\n    <tr>\n      <th>4</th>\n      <td>1</td>\n      <td>C:\\Users\\Даниил\\Downloads\\Homework\\Cigarettes\\...</td>\n    </tr>\n    <tr>\n      <th>...</th>\n      <td>...</td>\n      <td>...</td>\n    </tr>\n    <tr>\n      <th>1195</th>\n      <td>1</td>\n      <td>C:\\Users\\Даниил\\Downloads\\Homework\\Cigarettes\\...</td>\n    </tr>\n    <tr>\n      <th>1196</th>\n      <td>0</td>\n      <td>C:\\Users\\Даниил\\Downloads\\Homework\\Cigarettes\\...</td>\n    </tr>\n    <tr>\n      <th>1197</th>\n      <td>0</td>\n      <td>C:\\Users\\Даниил\\Downloads\\Homework\\Cigarettes\\...</td>\n    </tr>\n    <tr>\n      <th>1198</th>\n      <td>1</td>\n      <td>C:\\Users\\Даниил\\Downloads\\Homework\\Cigarettes\\...</td>\n    </tr>\n    <tr>\n      <th>1199</th>\n      <td>0</td>\n      <td>C:\\Users\\Даниил\\Downloads\\Homework\\Cigarettes\\...</td>\n    </tr>\n  </tbody>\n</table>\n<p>1200 rows × 2 columns</p>\n</div>"
     },
     "execution_count": 23,
     "metadata": {},
     "output_type": "execute_result"
    }
   ],
   "execution_count": 23
  },
  {
   "cell_type": "markdown",
   "source": [
    "Разбиваем наши данные на три выборки - тренировочную, валидационную и тестовую. \n"
   ],
   "metadata": {
    "collapsed": false
   },
   "id": "908bfdacd786a2f8"
  },
  {
   "cell_type": "code",
   "execution_count": 110,
   "outputs": [
    {
     "data": {
      "text/plain": "      label                                               link\n835       0  C:\\Users\\Даниил\\Downloads\\Homework\\Cigarettes\\...\n623       1  C:\\Users\\Даниил\\Downloads\\Homework\\Cigarettes\\...\n370       1  C:\\Users\\Даниил\\Downloads\\Homework\\Cigarettes\\...\n613       1  C:\\Users\\Даниил\\Downloads\\Homework\\Cigarettes\\...\n1115      1  C:\\Users\\Даниил\\Downloads\\Homework\\Cigarettes\\...\n...     ...                                                ...\n227       1  C:\\Users\\Даниил\\Downloads\\Homework\\Cigarettes\\...\n785       0  C:\\Users\\Даниил\\Downloads\\Homework\\Cigarettes\\...\n1029      1  C:\\Users\\Даниил\\Downloads\\Homework\\Cigarettes\\...\n120       0  C:\\Users\\Даниил\\Downloads\\Homework\\Cigarettes\\...\n551       1  C:\\Users\\Даниил\\Downloads\\Homework\\Cigarettes\\...\n\n[75 rows x 2 columns]",
      "text/html": "<div>\n<style scoped>\n    .dataframe tbody tr th:only-of-type {\n        vertical-align: middle;\n    }\n\n    .dataframe tbody tr th {\n        vertical-align: top;\n    }\n\n    .dataframe thead th {\n        text-align: right;\n    }\n</style>\n<table border=\"1\" class=\"dataframe\">\n  <thead>\n    <tr style=\"text-align: right;\">\n      <th></th>\n      <th>label</th>\n      <th>link</th>\n    </tr>\n  </thead>\n  <tbody>\n    <tr>\n      <th>835</th>\n      <td>0</td>\n      <td>C:\\Users\\Даниил\\Downloads\\Homework\\Cigarettes\\...</td>\n    </tr>\n    <tr>\n      <th>623</th>\n      <td>1</td>\n      <td>C:\\Users\\Даниил\\Downloads\\Homework\\Cigarettes\\...</td>\n    </tr>\n    <tr>\n      <th>370</th>\n      <td>1</td>\n      <td>C:\\Users\\Даниил\\Downloads\\Homework\\Cigarettes\\...</td>\n    </tr>\n    <tr>\n      <th>613</th>\n      <td>1</td>\n      <td>C:\\Users\\Даниил\\Downloads\\Homework\\Cigarettes\\...</td>\n    </tr>\n    <tr>\n      <th>1115</th>\n      <td>1</td>\n      <td>C:\\Users\\Даниил\\Downloads\\Homework\\Cigarettes\\...</td>\n    </tr>\n    <tr>\n      <th>...</th>\n      <td>...</td>\n      <td>...</td>\n    </tr>\n    <tr>\n      <th>227</th>\n      <td>1</td>\n      <td>C:\\Users\\Даниил\\Downloads\\Homework\\Cigarettes\\...</td>\n    </tr>\n    <tr>\n      <th>785</th>\n      <td>0</td>\n      <td>C:\\Users\\Даниил\\Downloads\\Homework\\Cigarettes\\...</td>\n    </tr>\n    <tr>\n      <th>1029</th>\n      <td>1</td>\n      <td>C:\\Users\\Даниил\\Downloads\\Homework\\Cigarettes\\...</td>\n    </tr>\n    <tr>\n      <th>120</th>\n      <td>0</td>\n      <td>C:\\Users\\Даниил\\Downloads\\Homework\\Cigarettes\\...</td>\n    </tr>\n    <tr>\n      <th>551</th>\n      <td>1</td>\n      <td>C:\\Users\\Даниил\\Downloads\\Homework\\Cigarettes\\...</td>\n    </tr>\n  </tbody>\n</table>\n<p>75 rows × 2 columns</p>\n</div>"
     },
     "execution_count": 110,
     "metadata": {},
     "output_type": "execute_result"
    }
   ],
   "source": [
    "from sklearn.model_selection import train_test_split\n",
    "\n",
    "train_data, val_data = train_test_split(data, test_size=0.25)\n",
    "val_data, test_data = train_test_split(val_data, test_size=0.25)\n",
    "test_data"
   ],
   "metadata": {
    "collapsed": false
   },
   "id": "e1df1ccea8836cf7"
  },
  {
   "cell_type": "markdown",
   "source": [
    "### Первая модель\n",
    "\n",
    "Как я уже сказал, для обучения модели использовались архитектуры сверточной нейронной сети под названием ResNet. Я использовал модель с 18-ю обучающими слоями."
   ],
   "metadata": {
    "collapsed": false
   },
   "id": "675186d0dd8848be"
  },
  {
   "cell_type": "code",
   "execution_count": 143,
   "outputs": [],
   "source": [
    "model = models.resnet18()\n",
    "num_of_classes = 2\n",
    "\n",
    "model.fc = nn.Linear(model.fc.in_features, num_of_classes)"
   ],
   "metadata": {
    "collapsed": false,
    "ExecuteTime": {
     "end_time": "2024-10-17T13:11:12.632737300Z",
     "start_time": "2024-10-17T13:11:11.956740400Z"
    }
   },
   "id": "8414c0b9aaf96415"
  },
  {
   "cell_type": "markdown",
   "source": [
    "Определяем трансформации"
   ],
   "metadata": {
    "collapsed": false
   },
   "id": "2fc8b7e59af22a22"
  },
  {
   "metadata": {
    "ExecuteTime": {
     "end_time": "2024-10-17T07:21:21.072987Z",
     "start_time": "2024-10-17T07:21:20.993982500Z"
    }
   },
   "cell_type": "code",
   "source": [
    "transform_train = transforms.Compose([transforms.Resize((224, 224)), transforms.ToTensor()])\n",
    "transform_val = transforms.Compose([transforms.Resize((224, 224)), transforms.ToTensor()])\n",
    "transform_test = transforms.Compose([transforms.Resize((224, 224)), transforms.ToTensor()])"
   ],
   "id": "b7c73d913bc3b022",
   "outputs": [],
   "execution_count": 111
  },
  {
   "cell_type": "markdown",
   "source": [
    "Транслируем изображения в нужный нам формат"
   ],
   "metadata": {
    "collapsed": false
   },
   "id": "2b209b17eb817ff"
  },
  {
   "metadata": {
    "ExecuteTime": {
     "end_time": "2024-10-17T07:34:13.562224100Z",
     "start_time": "2024-10-17T07:21:23.397761600Z"
    }
   },
   "cell_type": "code",
   "source": [
    "def to_images(transform, data):\n",
    "    return [(transform(Image.open(row['link']).convert(\"RGB\")), row['label']) for _, row in data.iterrows()]\n",
    "\n",
    "test_images = to_images(transform_test, test_data)\n",
    "val_images = to_images(transform_val, val_data)\n",
    "train_images = to_images(transform_train, train_data)"
   ],
   "id": "e441c8da4796a5e6",
   "outputs": [
    {
     "name": "stderr",
     "output_type": "stream",
     "text": [
      "C:\\Users\\Даниил\\AppData\\Local\\Programs\\Python\\Python311\\Lib\\site-packages\\PIL\\Image.py:3176: DecompressionBombWarning: Image size (142643260 pixels) exceeds limit of 89478485 pixels, could be decompression bomb DOS attack.\n",
      "  warnings.warn(\n"
     ]
    }
   ],
   "execution_count": 112
  },
  {
   "metadata": {
    "ExecuteTime": {
     "end_time": "2024-10-17T07:35:20.648805Z",
     "start_time": "2024-10-17T07:35:20.567905500Z"
    }
   },
   "cell_type": "code",
   "source": [
    "test_images[0]\n",
    "val_images[0]\n",
    "train_images[0]"
   ],
   "id": "95ec952b5a8c5850",
   "outputs": [
    {
     "data": {
      "text/plain": "(tensor([[[0.2118, 0.2196, 0.2196,  ..., 0.3647, 0.3647, 0.3529],\n          [0.2157, 0.2275, 0.2431,  ..., 0.3451, 0.3451, 0.3333],\n          [0.2588, 0.2784, 0.2941,  ..., 0.3451, 0.3451, 0.3294],\n          ...,\n          [0.2078, 0.1529, 0.0745,  ..., 0.4353, 0.4235, 0.4039],\n          [0.1176, 0.0784, 0.0275,  ..., 0.4627, 0.4392, 0.4196],\n          [0.0745, 0.0471, 0.0196,  ..., 0.4667, 0.4471, 0.4314]],\n \n         [[0.2667, 0.2627, 0.2667,  ..., 0.4039, 0.4039, 0.3922],\n          [0.2667, 0.2745, 0.2941,  ..., 0.3843, 0.3843, 0.3686],\n          [0.3098, 0.3294, 0.3490,  ..., 0.3804, 0.3804, 0.3647],\n          ...,\n          [0.2039, 0.1529, 0.0902,  ..., 0.4510, 0.4235, 0.3961],\n          [0.1294, 0.0941, 0.0627,  ..., 0.4471, 0.4157, 0.3922],\n          [0.0980, 0.0784, 0.0627,  ..., 0.4392, 0.4157, 0.3922]],\n \n         [[0.1216, 0.1176, 0.1098,  ..., 0.2000, 0.1961, 0.1843],\n          [0.1176, 0.1137, 0.1216,  ..., 0.1843, 0.1843, 0.1804],\n          [0.1255, 0.1333, 0.1373,  ..., 0.1843, 0.1843, 0.1804],\n          ...,\n          [0.1098, 0.0745, 0.0353,  ..., 0.1255, 0.1255, 0.1176],\n          [0.0706, 0.0431, 0.0157,  ..., 0.1333, 0.1294, 0.1216],\n          [0.0549, 0.0314, 0.0157,  ..., 0.1294, 0.1294, 0.1255]]]),\n 0)"
     },
     "execution_count": 113,
     "metadata": {},
     "output_type": "execute_result"
    }
   ],
   "execution_count": 113
  },
  {
   "cell_type": "markdown",
   "source": [
    "И разбиваем их на батчи. "
   ],
   "metadata": {
    "collapsed": false
   },
   "id": "5510da4cfdd961e4"
  },
  {
   "metadata": {
    "ExecuteTime": {
     "end_time": "2024-10-17T07:35:24.328257200Z",
     "start_time": "2024-10-17T07:35:22.508812600Z"
    }
   },
   "cell_type": "code",
   "source": [
    "batch_size = 64\n",
    "test_loader = DataLoader(test_images, batch_size=batch_size, shuffle=False)\n",
    "val_loader = DataLoader(val_images, batch_size=batch_size, shuffle=False)\n",
    "train_loader = DataLoader(train_images, batch_size=batch_size, shuffle=True)"
   ],
   "id": "4075dc09b783d31a",
   "outputs": [],
   "execution_count": 114
  },
  {
   "cell_type": "markdown",
   "source": [
    "Валидация модели до обучения. "
   ],
   "metadata": {
    "collapsed": false
   },
   "id": "c3b6f5e3e8759fa9"
  },
  {
   "metadata": {
    "ExecuteTime": {
     "end_time": "2024-10-17T07:35:47.710056600Z",
     "start_time": "2024-10-17T07:35:26.235809900Z"
    }
   },
   "cell_type": "code",
   "source": [
    "device = torch.device(\"cuda\" if torch.cuda.is_available() else \"cpu\")\n",
    "\n",
    "model.eval()\n",
    "model.to(device)\n",
    "all_labels = []\n",
    "all_predictions = []\n",
    "\n",
    "with torch.no_grad():\n",
    "    for images, labels in tqdm(val_loader):\n",
    "        images, labels = images.to(device), labels.to(device)\n",
    "        outputs = model(images)\n",
    "        _, predicted = outputs.max(1)\n",
    "\n",
    "        all_labels.extend(labels.cpu().numpy())\n",
    "        all_predictions.extend(predicted.cpu().numpy())\n",
    "\n",
    "precision = precision_score(all_labels, all_predictions, average='binary')\n",
    "recall = recall_score(all_labels, all_predictions, average='binary')\n",
    "f1 = f1_score(all_labels, all_predictions, average='binary')\n",
    "print(f'Precision: {precision:.4f}')\n",
    "print(f'Recall: {recall:.4f}')\n",
    "print(f'F1 Score: {f1:.4f}')"
   ],
   "id": "b06efaaf24af5b92",
   "outputs": [
    {
     "name": "stderr",
     "output_type": "stream",
     "text": [
      "100%|██████████| 4/4 [00:21<00:00,  5.35s/it]"
     ]
    },
    {
     "name": "stdout",
     "output_type": "stream",
     "text": [
      "Precision: 1.0000\n",
      "Recall: 0.0098\n",
      "F1 Score: 0.0194\n"
     ]
    },
    {
     "name": "stderr",
     "output_type": "stream",
     "text": [
      "\n"
     ]
    }
   ],
   "execution_count": 115
  },
  {
   "cell_type": "markdown",
   "source": [
    "Я собрал одинаковое количество изображений с сигаретами и без, однако в построенных выборках их соотношение могло немного измениться. Посмотрим, в каком соотношении находятся классы для каждой выборки. "
   ],
   "metadata": {
    "collapsed": false
   },
   "id": "24277e751ee9ed8f"
  },
  {
   "metadata": {
    "ExecuteTime": {
     "end_time": "2024-10-09T21:52:28.241340Z",
     "start_time": "2024-10-09T21:52:26.579343Z"
    }
   },
   "cell_type": "code",
   "source": [
    "\n",
    "train_class_counts = np.zeros(num_of_classes)\n",
    "val_class_counts = np.zeros(num_of_classes)\n",
    "test_class_counts = np.zeros(num_of_classes)\n",
    "for _, label in train_images: \n",
    "    train_class_counts[label] += 1\n",
    "for _, label in val_images: \n",
    "    val_class_counts[label] += 1  \n",
    "for _, label in test_images: \n",
    "    test_class_counts[label] += 1\n",
    "class_names = [\"Without cigarette\", \"With cigarette\"]\n",
    "\n",
    "fig, axs = plt.subplots(1, 3, figsize=(14, 6))\n",
    "\n",
    "axs[0].bar(class_names, train_class_counts)\n",
    "axs[0].set_ylabel('Number of Samples')\n",
    "axs[0].set_title('Train Data')\n",
    "axs[1].bar(class_names, val_class_counts)\n",
    "axs[1].set_ylabel('Number of Samples')\n",
    "axs[1].set_title('Validation Data')\n",
    "axs[2].bar(class_names, test_class_counts)\n",
    "axs[2].set_ylabel('Number of Samples')\n",
    "axs[2].set_title('Test Data')\n",
    "plt.tight_layout()\n",
    "plt.show()\n"
   ],
   "id": "f21b8a4e5dbb0fef",
   "outputs": [
    {
     "data": {
      "text/plain": [
       "<Figure size 1400x600 with 3 Axes>"
      ],
      "image/png": "[encoded data removed]"
     },
     "metadata": {},
     "output_type": "display_data"
    }
   ],
   "execution_count": 63
  },
  {
   "cell_type": "markdown",
   "source": [
    "Ожидаемо, они разбились примерно поровну в каждую выборку."
   ],
   "metadata": {
    "collapsed": false
   },
   "id": "a26722d21e187a8"
  },
  {
   "cell_type": "markdown",
   "source": [
    "Перейдём к гиперпараметрам нашей модели. В качестве функции потерь будет использоваться кросс-энтропия. Оптимизатор - Адам. Метрикой оценки качества будет F1-мера, позволяющая учитывать одновременно и recall, и precision. Количество эпох я взял равное 30. Размер одного батча был задан выше, и равен он 64"
   ],
   "metadata": {
    "collapsed": false
   },
   "id": "4b56382758e178f8"
  },
  {
   "cell_type": "code",
   "execution_count": 116,
   "outputs": [],
   "source": [
    "best_f1_score = 0\n",
    "criterion = nn.CrossEntropyLoss()\n",
    "optimizer = optim.Adam(model.parameters(), lr=1e-6)\n",
    "best_f1_score = 0\n",
    "model.to(device)\n",
    "num_epochs = 30"
   ],
   "metadata": {
    "collapsed": false,
    "ExecuteTime": {
     "end_time": "2024-10-17T07:36:58.476120300Z",
     "start_time": "2024-10-17T07:36:58.400522100Z"
    }
   },
   "id": "8bfe3a95f92b0401"
  },
  {
   "cell_type": "markdown",
   "source": [
    "### Обучение сети. "
   ],
   "metadata": {
    "collapsed": false
   },
   "id": "914d44e166b3a210"
  },
  {
   "metadata": {
    "ExecuteTime": {
     "end_time": "2024-10-17T09:22:17.519098600Z",
     "start_time": "2024-10-17T07:36:59.298471200Z"
    }
   },
   "cell_type": "code",
   "source": [
    "train_losses, val_losses = [], []\n",
    "train_recalls, train_precisions = [], []\n",
    "val_recalls, val_precisions = [], []\n",
    "\n",
    "best_f1_score = 0.0  \n",
    "\n",
    "for epoch in range(num_epochs):\n",
    "    model.train()\n",
    "    running_loss = 0.0\n",
    "    all_train_labels = []\n",
    "    all_train_predictions = []\n",
    "\n",
    "    for images, labels in tqdm(train_loader):\n",
    "        images, labels = images.to(device), labels.to(device)\n",
    "        optimizer.zero_grad()\n",
    "        outputs = model(images)\n",
    "        loss = criterion(outputs, labels)\n",
    "        loss.backward()\n",
    "        optimizer.step()\n",
    "\n",
    "        running_loss += loss.item()\n",
    "\n",
    "        _, predicted = outputs.max(1)  \n",
    "        all_train_labels.extend(labels.cpu().numpy())\n",
    "        all_train_predictions.extend(predicted.cpu().numpy())\n",
    "\n",
    "    train_loss = running_loss / len(train_loader)\n",
    "    train_losses.append(train_loss)\n",
    "\n",
    "    train_precision = precision_score(all_train_labels, all_train_predictions, average='binary', zero_division=0)\n",
    "    train_recall = recall_score(all_train_labels, all_train_predictions, average='binary', zero_division=0)\n",
    "    train_f1 = f1_score(all_train_labels, all_train_predictions, average='binary', zero_division=0)\n",
    "\n",
    "    train_precisions.append(train_precision)\n",
    "    train_recalls.append(train_recall)\n",
    "\n",
    "    model.eval()\n",
    "    val_loss = 0.0\n",
    "    all_val_labels = []\n",
    "    all_val_predictions = []\n",
    "\n",
    "    with torch.no_grad():\n",
    "        for images, labels in tqdm(val_loader):\n",
    "            images, labels = images.to(device), labels.to(device)\n",
    "            outputs = model(images)\n",
    "            loss = criterion(outputs, labels)\n",
    "\n",
    "            val_loss += loss.item()\n",
    "\n",
    "            _, predicted = outputs.max(1)\n",
    "            all_val_labels.extend(labels.cpu().numpy())\n",
    "            all_val_predictions.extend(predicted.cpu().numpy())\n",
    "\n",
    "    val_loss /= len(val_loader)\n",
    "    val_losses.append(val_loss)\n",
    "\n",
    "    val_precision = precision_score(all_val_labels, all_val_predictions, average='binary', zero_division=0)\n",
    "    val_recall = recall_score(all_val_labels, all_val_predictions, average='binary', zero_division=0)\n",
    "    val_f1 = f1_score(all_val_labels, all_val_predictions, average='binary', zero_division=0)\n",
    "\n",
    "    val_precisions.append(val_precision)\n",
    "    val_recalls.append(val_recall)\n",
    "\n",
    "    print(f'Epoch [{epoch+1}/{num_epochs}], '\n",
    "          f'Train Loss: {train_loss:.4f}, Train Recall: {train_recall:.4f}, Train Precision: {train_precision:.4f}, '\n",
    "          f'Val Loss: {val_loss:.4f}, Val Recall: {val_recall:.4f}, Val Precision: {val_precision:.4f}, Val F1 Score: {val_f1:.4f}')\n",
    "\n",
    "    if val_f1 > best_f1_score:\n",
    "        best_f1_score = val_f1\n",
    "        torch.save(model.state_dict(), 'best_model.pth')\n",
    "        print('Saved best model!')\n",
    "\n",
    "torch.save(model.state_dict(), 'last_model.pth')\n",
    "print()"
   ],
   "id": "8615aa44f5033e25",
   "outputs": [
    {
     "name": "stderr",
     "output_type": "stream",
     "text": [
      "100%|██████████| 15/15 [03:16<00:00, 13.10s/it]\n",
      "100%|██████████| 4/4 [00:14<00:00,  3.72s/it]\n"
     ]
    },
    {
     "name": "stdout",
     "output_type": "stream",
     "text": [
      "Epoch [1/30], Train Loss: 0.6922, Train Recall: 0.7181, Train Precision: 0.5199, Val Loss: 0.6993, Val Recall: 0.9804, Val Precision: 0.4484, Val F1 Score: 0.6154\n",
      "Saved best model!\n"
     ]
    },
    {
     "name": "stderr",
     "output_type": "stream",
     "text": [
      "100%|██████████| 15/15 [02:56<00:00, 11.75s/it]\n",
      "100%|██████████| 4/4 [00:15<00:00,  3.76s/it]\n"
     ]
    },
    {
     "name": "stdout",
     "output_type": "stream",
     "text": [
      "Epoch [2/30], Train Loss: 0.6771, Train Recall: 0.7225, Train Precision: 0.5607, Val Loss: 0.7168, Val Recall: 1.0000, Val Precision: 0.4533, Val F1 Score: 0.6239\n",
      "Saved best model!\n"
     ]
    },
    {
     "name": "stderr",
     "output_type": "stream",
     "text": [
      "100%|██████████| 15/15 [03:21<00:00, 13.47s/it]\n",
      "100%|██████████| 4/4 [00:24<00:00,  6.05s/it]\n"
     ]
    },
    {
     "name": "stdout",
     "output_type": "stream",
     "text": [
      "Epoch [3/30], Train Loss: 0.6670, Train Recall: 0.7026, Train Precision: 0.5842, Val Loss: 0.7195, Val Recall: 0.9902, Val Precision: 0.4509, Val F1 Score: 0.6196\n"
     ]
    },
    {
     "name": "stderr",
     "output_type": "stream",
     "text": [
      "100%|██████████| 15/15 [03:40<00:00, 14.73s/it]\n",
      "100%|██████████| 4/4 [00:15<00:00,  3.82s/it]\n"
     ]
    },
    {
     "name": "stdout",
     "output_type": "stream",
     "text": [
      "Epoch [4/30], Train Loss: 0.6568, Train Recall: 0.6762, Train Precision: 0.5961, Val Loss: 0.6987, Val Recall: 0.9020, Val Precision: 0.4600, Val F1 Score: 0.6093\n"
     ]
    },
    {
     "name": "stderr",
     "output_type": "stream",
     "text": [
      "100%|██████████| 15/15 [04:38<00:00, 18.54s/it]\n",
      "100%|██████████| 4/4 [00:23<00:00,  5.79s/it]\n"
     ]
    },
    {
     "name": "stdout",
     "output_type": "stream",
     "text": [
      "Epoch [5/30], Train Loss: 0.6650, Train Recall: 0.6872, Train Precision: 0.6130, Val Loss: 0.6854, Val Recall: 0.7451, Val Precision: 0.5101, Val F1 Score: 0.6056\n"
     ]
    },
    {
     "name": "stderr",
     "output_type": "stream",
     "text": [
      "100%|██████████| 15/15 [04:56<00:00, 19.73s/it]\n",
      "100%|██████████| 4/4 [00:19<00:00,  4.81s/it]\n"
     ]
    },
    {
     "name": "stdout",
     "output_type": "stream",
     "text": [
      "Epoch [6/30], Train Loss: 0.6627, Train Recall: 0.6740, Train Precision: 0.6083, Val Loss: 0.6801, Val Recall: 0.7157, Val Precision: 0.5530, Val F1 Score: 0.6239\n",
      "Saved best model!\n"
     ]
    },
    {
     "name": "stderr",
     "output_type": "stream",
     "text": [
      "100%|██████████| 15/15 [04:28<00:00, 17.91s/it]\n",
      "100%|██████████| 4/4 [00:25<00:00,  6.27s/it]\n"
     ]
    },
    {
     "name": "stdout",
     "output_type": "stream",
     "text": [
      "Epoch [7/30], Train Loss: 0.6562, Train Recall: 0.6828, Train Precision: 0.6175, Val Loss: 0.6790, Val Recall: 0.7255, Val Precision: 0.5522, Val F1 Score: 0.6271\n",
      "Saved best model!\n"
     ]
    },
    {
     "name": "stderr",
     "output_type": "stream",
     "text": [
      "100%|██████████| 15/15 [04:28<00:00, 17.91s/it]\n",
      "100%|██████████| 4/4 [00:22<00:00,  5.63s/it]\n"
     ]
    },
    {
     "name": "stdout",
     "output_type": "stream",
     "text": [
      "Epoch [8/30], Train Loss: 0.6555, Train Recall: 0.6806, Train Precision: 0.6319, Val Loss: 0.6736, Val Recall: 0.6765, Val Precision: 0.5520, Val F1 Score: 0.6079\n"
     ]
    },
    {
     "name": "stderr",
     "output_type": "stream",
     "text": [
      "100%|██████████| 15/15 [04:53<00:00, 19.56s/it]\n",
      "100%|██████████| 4/4 [00:23<00:00,  5.75s/it]\n"
     ]
    },
    {
     "name": "stdout",
     "output_type": "stream",
     "text": [
      "Epoch [9/30], Train Loss: 0.6573, Train Recall: 0.6762, Train Precision: 0.6278, Val Loss: 0.6762, Val Recall: 0.7157, Val Precision: 0.5573, Val F1 Score: 0.6266\n"
     ]
    },
    {
     "name": "stderr",
     "output_type": "stream",
     "text": [
      "100%|██████████| 15/15 [03:01<00:00, 12.13s/it]\n",
      "100%|██████████| 4/4 [00:14<00:00,  3.69s/it]\n"
     ]
    },
    {
     "name": "stdout",
     "output_type": "stream",
     "text": [
      "Epoch [10/30], Train Loss: 0.6469, Train Recall: 0.6740, Train Precision: 0.6429, Val Loss: 0.6715, Val Recall: 0.6765, Val Precision: 0.5565, Val F1 Score: 0.6106\n"
     ]
    },
    {
     "name": "stderr",
     "output_type": "stream",
     "text": [
      "100%|██████████| 15/15 [02:51<00:00, 11.42s/it]\n",
      "100%|██████████| 4/4 [00:14<00:00,  3.65s/it]\n"
     ]
    },
    {
     "name": "stdout",
     "output_type": "stream",
     "text": [
      "Epoch [11/30], Train Loss: 0.6433, Train Recall: 0.6740, Train Precision: 0.6349, Val Loss: 0.6664, Val Recall: 0.6078, Val Precision: 0.5794, Val F1 Score: 0.5933\n"
     ]
    },
    {
     "name": "stderr",
     "output_type": "stream",
     "text": [
      "100%|██████████| 15/15 [02:52<00:00, 11.53s/it]\n",
      "100%|██████████| 4/4 [00:15<00:00,  3.81s/it]\n"
     ]
    },
    {
     "name": "stdout",
     "output_type": "stream",
     "text": [
      "Epoch [12/30], Train Loss: 0.6377, Train Recall: 0.6762, Train Precision: 0.6436, Val Loss: 0.6686, Val Recall: 0.6471, Val Precision: 0.5789, Val F1 Score: 0.6111\n"
     ]
    },
    {
     "name": "stderr",
     "output_type": "stream",
     "text": [
      "100%|██████████| 15/15 [02:54<00:00, 11.61s/it]\n",
      "100%|██████████| 4/4 [00:15<00:00,  3.85s/it]\n"
     ]
    },
    {
     "name": "stdout",
     "output_type": "stream",
     "text": [
      "Epoch [13/30], Train Loss: 0.6457, Train Recall: 0.6674, Train Precision: 0.6474, Val Loss: 0.6672, Val Recall: 0.6471, Val Precision: 0.5841, Val F1 Score: 0.6140\n"
     ]
    },
    {
     "name": "stderr",
     "output_type": "stream",
     "text": [
      "100%|██████████| 15/15 [02:50<00:00, 11.35s/it]\n",
      "100%|██████████| 4/4 [00:14<00:00,  3.69s/it]\n"
     ]
    },
    {
     "name": "stdout",
     "output_type": "stream",
     "text": [
      "Epoch [14/30], Train Loss: 0.6346, Train Recall: 0.6740, Train Precision: 0.6511, Val Loss: 0.6670, Val Recall: 0.6863, Val Precision: 0.5882, Val F1 Score: 0.6335\n",
      "Saved best model!\n"
     ]
    },
    {
     "name": "stderr",
     "output_type": "stream",
     "text": [
      "100%|██████████| 15/15 [02:49<00:00, 11.29s/it]\n",
      "100%|██████████| 4/4 [00:14<00:00,  3.59s/it]\n"
     ]
    },
    {
     "name": "stdout",
     "output_type": "stream",
     "text": [
      "Epoch [15/30], Train Loss: 0.6417, Train Recall: 0.6564, Train Precision: 0.6622, Val Loss: 0.6664, Val Recall: 0.6961, Val Precision: 0.5868, Val F1 Score: 0.6368\n",
      "Saved best model!\n"
     ]
    },
    {
     "name": "stderr",
     "output_type": "stream",
     "text": [
      "100%|██████████| 15/15 [02:50<00:00, 11.38s/it]\n",
      "100%|██████████| 4/4 [00:14<00:00,  3.61s/it]\n"
     ]
    },
    {
     "name": "stdout",
     "output_type": "stream",
     "text": [
      "Epoch [16/30], Train Loss: 0.6409, Train Recall: 0.6344, Train Precision: 0.6636, Val Loss: 0.6643, Val Recall: 0.6569, Val Precision: 0.5826, Val F1 Score: 0.6175\n"
     ]
    },
    {
     "name": "stderr",
     "output_type": "stream",
     "text": [
      "100%|██████████| 15/15 [02:49<00:00, 11.33s/it]\n",
      "100%|██████████| 4/4 [00:14<00:00,  3.67s/it]\n"
     ]
    },
    {
     "name": "stdout",
     "output_type": "stream",
     "text": [
      "Epoch [17/30], Train Loss: 0.6211, Train Recall: 0.6740, Train Precision: 0.6623, Val Loss: 0.6602, Val Recall: 0.6176, Val Precision: 0.5943, Val F1 Score: 0.6058\n"
     ]
    },
    {
     "name": "stderr",
     "output_type": "stream",
     "text": [
      "100%|██████████| 15/15 [02:51<00:00, 11.42s/it]\n",
      "100%|██████████| 4/4 [00:14<00:00,  3.72s/it]\n"
     ]
    },
    {
     "name": "stdout",
     "output_type": "stream",
     "text": [
      "Epoch [18/30], Train Loss: 0.6207, Train Recall: 0.6718, Train Precision: 0.6793, Val Loss: 0.6582, Val Recall: 0.5980, Val Precision: 0.6224, Val F1 Score: 0.6100\n"
     ]
    },
    {
     "name": "stderr",
     "output_type": "stream",
     "text": [
      "100%|██████████| 15/15 [02:50<00:00, 11.35s/it]\n",
      "100%|██████████| 4/4 [00:15<00:00,  3.78s/it]\n"
     ]
    },
    {
     "name": "stdout",
     "output_type": "stream",
     "text": [
      "Epoch [19/30], Train Loss: 0.6321, Train Recall: 0.6564, Train Precision: 0.6667, Val Loss: 0.6598, Val Recall: 0.6275, Val Precision: 0.5766, Val F1 Score: 0.6009\n"
     ]
    },
    {
     "name": "stderr",
     "output_type": "stream",
     "text": [
      "100%|██████████| 15/15 [02:48<00:00, 11.24s/it]\n",
      "100%|██████████| 4/4 [00:15<00:00,  3.86s/it]\n"
     ]
    },
    {
     "name": "stdout",
     "output_type": "stream",
     "text": [
      "Epoch [20/30], Train Loss: 0.6212, Train Recall: 0.6674, Train Precision: 0.6982, Val Loss: 0.6583, Val Recall: 0.6471, Val Precision: 0.5841, Val F1 Score: 0.6140\n"
     ]
    },
    {
     "name": "stderr",
     "output_type": "stream",
     "text": [
      "100%|██████████| 15/15 [02:53<00:00, 11.55s/it]\n",
      "100%|██████████| 4/4 [00:14<00:00,  3.71s/it]\n"
     ]
    },
    {
     "name": "stdout",
     "output_type": "stream",
     "text": [
      "Epoch [21/30], Train Loss: 0.6214, Train Recall: 0.6586, Train Precision: 0.6811, Val Loss: 0.6547, Val Recall: 0.6176, Val Precision: 0.6300, Val F1 Score: 0.6238\n"
     ]
    },
    {
     "name": "stderr",
     "output_type": "stream",
     "text": [
      "100%|██████████| 15/15 [02:50<00:00, 11.36s/it]\n",
      "100%|██████████| 4/4 [00:14<00:00,  3.59s/it]\n"
     ]
    },
    {
     "name": "stdout",
     "output_type": "stream",
     "text": [
      "Epoch [22/30], Train Loss: 0.6257, Train Recall: 0.6476, Train Precision: 0.6759, Val Loss: 0.6560, Val Recall: 0.6471, Val Precision: 0.6226, Val F1 Score: 0.6346\n"
     ]
    },
    {
     "name": "stderr",
     "output_type": "stream",
     "text": [
      "100%|██████████| 15/15 [02:50<00:00, 11.37s/it]\n",
      "100%|██████████| 4/4 [00:14<00:00,  3.63s/it]\n"
     ]
    },
    {
     "name": "stdout",
     "output_type": "stream",
     "text": [
      "Epoch [23/30], Train Loss: 0.6253, Train Recall: 0.6696, Train Precision: 0.7021, Val Loss: 0.6569, Val Recall: 0.6667, Val Precision: 0.6018, Val F1 Score: 0.6326\n"
     ]
    },
    {
     "name": "stderr",
     "output_type": "stream",
     "text": [
      "100%|██████████| 15/15 [02:49<00:00, 11.32s/it]\n",
      "100%|██████████| 4/4 [00:15<00:00,  3.76s/it]\n"
     ]
    },
    {
     "name": "stdout",
     "output_type": "stream",
     "text": [
      "Epoch [24/30], Train Loss: 0.6088, Train Recall: 0.6564, Train Precision: 0.7215, Val Loss: 0.6556, Val Recall: 0.6863, Val Precision: 0.6034, Val F1 Score: 0.6422\n",
      "Saved best model!\n"
     ]
    },
    {
     "name": "stderr",
     "output_type": "stream",
     "text": [
      "100%|██████████| 15/15 [02:50<00:00, 11.34s/it]\n",
      "100%|██████████| 4/4 [00:14<00:00,  3.60s/it]\n"
     ]
    },
    {
     "name": "stdout",
     "output_type": "stream",
     "text": [
      "Epoch [25/30], Train Loss: 0.6140, Train Recall: 0.6762, Train Precision: 0.7074, Val Loss: 0.6515, Val Recall: 0.6471, Val Precision: 0.6168, Val F1 Score: 0.6316\n"
     ]
    },
    {
     "name": "stderr",
     "output_type": "stream",
     "text": [
      "100%|██████████| 15/15 [02:50<00:00, 11.40s/it]\n",
      "100%|██████████| 4/4 [00:14<00:00,  3.71s/it]\n"
     ]
    },
    {
     "name": "stdout",
     "output_type": "stream",
     "text": [
      "Epoch [26/30], Train Loss: 0.6059, Train Recall: 0.6674, Train Precision: 0.7146, Val Loss: 0.6510, Val Recall: 0.6373, Val Precision: 0.6190, Val F1 Score: 0.6280\n"
     ]
    },
    {
     "name": "stderr",
     "output_type": "stream",
     "text": [
      "100%|██████████| 15/15 [02:51<00:00, 11.44s/it]\n",
      "100%|██████████| 4/4 [00:14<00:00,  3.60s/it]\n"
     ]
    },
    {
     "name": "stdout",
     "output_type": "stream",
     "text": [
      "Epoch [27/30], Train Loss: 0.6210, Train Recall: 0.6630, Train Precision: 0.7033, Val Loss: 0.6519, Val Recall: 0.6275, Val Precision: 0.6214, Val F1 Score: 0.6244\n"
     ]
    },
    {
     "name": "stderr",
     "output_type": "stream",
     "text": [
      "100%|██████████| 15/15 [02:51<00:00, 11.42s/it]\n",
      "100%|██████████| 4/4 [00:14<00:00,  3.62s/it]\n"
     ]
    },
    {
     "name": "stdout",
     "output_type": "stream",
     "text": [
      "Epoch [28/30], Train Loss: 0.6166, Train Recall: 0.6432, Train Precision: 0.7105, Val Loss: 0.6499, Val Recall: 0.6275, Val Precision: 0.6214, Val F1 Score: 0.6244\n"
     ]
    },
    {
     "name": "stderr",
     "output_type": "stream",
     "text": [
      "100%|██████████| 15/15 [03:08<00:00, 12.53s/it]\n",
      "100%|██████████| 4/4 [00:14<00:00,  3.71s/it]\n"
     ]
    },
    {
     "name": "stdout",
     "output_type": "stream",
     "text": [
      "Epoch [29/30], Train Loss: 0.6081, Train Recall: 0.6630, Train Precision: 0.7236, Val Loss: 0.6532, Val Recall: 0.6765, Val Precision: 0.6000, Val F1 Score: 0.6359\n"
     ]
    },
    {
     "name": "stderr",
     "output_type": "stream",
     "text": [
      "100%|██████████| 15/15 [02:56<00:00, 11.76s/it]\n",
      "100%|██████████| 4/4 [00:14<00:00,  3.70s/it]"
     ]
    },
    {
     "name": "stdout",
     "output_type": "stream",
     "text": [
      "Epoch [30/30], Train Loss: 0.6150, Train Recall: 0.6608, Train Precision: 0.7143, Val Loss: 0.6495, Val Recall: 0.6569, Val Precision: 0.6262, Val F1 Score: 0.6411\n"
     ]
    },
    {
     "name": "stderr",
     "output_type": "stream",
     "text": [
      "\n"
     ]
    }
   ],
   "execution_count": 117
  },
  {
   "cell_type": "markdown",
   "source": [
    "Визуализируем полученный результат:"
   ],
   "metadata": {
    "collapsed": false
   },
   "id": "ae523c336b93538d"
  },
  {
   "cell_type": "markdown",
   "source": [],
   "metadata": {
    "collapsed": false
   },
   "id": "b3afcbeadcd7c359"
  },
  {
   "metadata": {
    "ExecuteTime": {
     "end_time": "2024-10-17T09:22:41.227935100Z",
     "start_time": "2024-10-17T09:22:38.520939300Z"
    }
   },
   "cell_type": "code",
   "source": [
    "plt.figure(figsize=(10, 5))\n",
    "plt.subplot(1, 2, 1)\n",
    "plt.plot(range(1, num_epochs+1), train_losses, label='Train')\n",
    "plt.plot(range(1, num_epochs+1), val_losses, label='Validation')\n",
    "plt.xlabel('Epoch')\n",
    "plt.ylabel('Loss')\n",
    "plt.title('Loss vs. Epoch')\n",
    "plt.legend()\n",
    "plt.subplot(1, 2, 2)\n",
    "plt.plot(range(1, num_epochs+1), train_recalls, label='Train Recall')\n",
    "plt.plot(range(1, num_epochs+1), val_recalls, label='Validation Recall')\n",
    "plt.plot(range(1, num_epochs+1), train_precisions, label='Train Precision')\n",
    "plt.plot(range(1, num_epochs+1), val_precisions, label='Validation Precision')\n",
    "plt.xlabel('Epoch')\n",
    "plt.ylabel('Recall/Precision')\n",
    "plt.title('Recall/Precision vs. Epoch')\n",
    "plt.legend()\n",
    "\n",
    "plt.show()"
   ],
   "id": "d34c6d489fd3bb2d",
   "outputs": [
    {
     "data": {
      "text/plain": "<Figure size 1000x500 with 2 Axes>",
      "image/png": "[encoded data removed]"
     },
     "metadata": {},
     "output_type": "display_data"
    }
   ],
   "execution_count": 118
  },
  {
   "cell_type": "markdown",
   "source": [
    "Видно, что модель продолжала обучаться на протяжении всех 30 эпох. Возможно, я бы смог улучшить результат, если бы задал этот параметр большим значением. Наилучшее значение F1 меры достигается где-то после 20 эпох. Скорее всего, я собрал довольно тяжелый для обучения датасет, так как помимо сигарет в нём также присутствует множество других объектов, и из-за этого не смог достичь впечатляющих результатов на простой модели. Тем не менее, результат значительно лучше бейслайна, а значит чему-то обучить её, да удалось. "
   ],
   "metadata": {
    "collapsed": false
   },
   "id": "df79c595f69464b"
  },
  {
   "cell_type": "markdown",
   "source": [
    "### Модель с добавлением аугментаций\n",
    "\n",
    "Попробуем добавить в нашу модель устойчивость к поворотам и отображениям. Изначально я взял ResNet50 в качестве архитектуры этой модели, но результаты оставляли желать лучшего, а сама модель слишком долго обучалась. Поэтому было принято решение в этом пункте также использовать ResNet18. Проделываем практически всё то же самое, что и ранее:\n"
   ],
   "metadata": {
    "collapsed": false
   },
   "id": "7026c7d356d4cf7c"
  },
  {
   "metadata": {
    "ExecuteTime": {
     "end_time": "2024-10-17T13:40:20.175981600Z",
     "start_time": "2024-10-17T13:40:19.336257700Z"
    }
   },
   "cell_type": "code",
   "source": [
    "model_a = models.resnet18(weights=True)\n",
    "model_a.fc = nn.Linear(model_a.fc.in_features, num_of_classes)"
   ],
   "id": "dbbf1fccc1973582",
   "outputs": [
    {
     "name": "stderr",
     "output_type": "stream",
     "text": [
      "C:\\Users\\Даниил\\AppData\\Local\\Programs\\Python\\Python311\\Lib\\site-packages\\torchvision\\models\\_utils.py:223: UserWarning: Arguments other than a weight enum or `None` for 'weights' are deprecated since 0.13 and may be removed in the future. The current behavior is equivalent to passing `weights=ResNet18_Weights.IMAGENET1K_V1`. You can also use `weights=ResNet18_Weights.DEFAULT` to get the most up-to-date weights.\n",
      "  warnings.warn(msg)\n"
     ]
    }
   ],
   "execution_count": 145
  },
  {
   "metadata": {
    "ExecuteTime": {
     "end_time": "2024-10-17T10:32:56.986214800Z",
     "start_time": "2024-10-17T10:32:56.934172600Z"
    }
   },
   "cell_type": "code",
   "outputs": [],
   "execution_count": 132,
   "source": [
    "def transform_a():\n",
    "    return transforms.Compose([\n",
    "        transforms.Resize(256),\n",
    "        transforms.RandomRotation(10),\n",
    "        transforms.CenterCrop(224),\n",
    "        transforms.RandomHorizontalFlip(0.5),\n",
    "        transforms.ToTensor(),\n",
    "        transforms.Normalize(mean=[0.485, 0.456, 0.406], std=[0.229, 0.224, 0.225])\n",
    "    ])\n",
    "\n",
    "transform_train_a = transform_a()\n",
    "transform_val_a = transform_a()\n",
    "transform_test_a = transform_a()"
   ],
   "id": "b1f992ea50748a74"
  },
  {
   "cell_type": "code",
   "execution_count": 133,
   "outputs": [
    {
     "name": "stderr",
     "output_type": "stream",
     "text": [
      "C:\\Users\\Даниил\\AppData\\Local\\Programs\\Python\\Python311\\Lib\\site-packages\\PIL\\Image.py:3176: DecompressionBombWarning: Image size (142643260 pixels) exceeds limit of 89478485 pixels, could be decompression bomb DOS attack.\n",
      "  warnings.warn(\n"
     ]
    }
   ],
   "source": [
    "test_images_a = to_images(transform_test_a, test_data)\n",
    "val_images_a = to_images(transform_val_a, val_data)\n",
    "train_images_a = to_images(transform_train_a, train_data)"
   ],
   "metadata": {
    "collapsed": false,
    "ExecuteTime": {
     "end_time": "2024-10-17T10:44:23.820390800Z",
     "start_time": "2024-10-17T10:32:58.618756100Z"
    }
   },
   "id": "12b7be9e672954b9"
  },
  {
   "cell_type": "code",
   "execution_count": 134,
   "outputs": [],
   "source": [
    "test_loader_a = DataLoader(test_images_a, batch_size=batch_size, shuffle=False)\n",
    "val_loader_a = DataLoader(val_images_a, batch_size=batch_size, shuffle=False)\n",
    "train_loader_a = DataLoader(train_images_a, batch_size=batch_size, shuffle=True)"
   ],
   "metadata": {
    "collapsed": false,
    "ExecuteTime": {
     "end_time": "2024-10-17T10:44:35.894345300Z",
     "start_time": "2024-10-17T10:44:35.660380200Z"
    }
   },
   "id": "8dc6dd219251d912"
  },
  {
   "cell_type": "code",
   "execution_count": 135,
   "outputs": [
    {
     "name": "stderr",
     "output_type": "stream",
     "text": [
      "100%|██████████| 4/4 [00:25<00:00,  6.44s/it]"
     ]
    },
    {
     "name": "stdout",
     "output_type": "stream",
     "text": [
      "Precision: 0.5833\n",
      "Recall: 0.3431\n",
      "F1 Score: 0.4321\n"
     ]
    },
    {
     "name": "stderr",
     "output_type": "stream",
     "text": [
      "\n"
     ]
    }
   ],
   "source": [
    "model_a.eval()\n",
    "model_a.to(device)\n",
    "all_labels = []\n",
    "all_predictions = []\n",
    "\n",
    "with torch.no_grad():\n",
    "    for images, labels in tqdm(val_loader_a):\n",
    "        images, labels = images.to(device), labels.to(device)\n",
    "        outputs = model_a(images)\n",
    "        _, predicted = outputs.max(1)\n",
    "\n",
    "        all_labels.extend(labels.cpu().numpy())\n",
    "        all_predictions.extend(predicted.cpu().numpy())\n",
    "\n",
    "precision = precision_score(all_labels, all_predictions, average='binary')\n",
    "recall = recall_score(all_labels, all_predictions, average='binary')\n",
    "f1 = f1_score(all_labels, all_predictions, average='binary')\n",
    "print(f'Precision: {precision:.4f}')\n",
    "print(f'Recall: {recall:.4f}')\n",
    "print(f'F1 Score: {f1:.4f}')"
   ],
   "metadata": {
    "collapsed": false,
    "ExecuteTime": {
     "end_time": "2024-10-17T10:45:02.818585800Z",
     "start_time": "2024-10-17T10:44:37.010338800Z"
    }
   },
   "id": "41db7c39e9ae321c"
  },
  {
   "cell_type": "markdown",
   "source": [
    "### Обучение"
   ],
   "metadata": {
    "collapsed": false
   },
   "id": "5eb38fecab6443c0"
  },
  {
   "cell_type": "code",
   "execution_count": 136,
   "outputs": [
    {
     "name": "stderr",
     "output_type": "stream",
     "text": [
      "100%|██████████| 15/15 [03:04<00:00, 12.30s/it]\n",
      "100%|██████████| 4/4 [00:15<00:00,  3.82s/it]\n"
     ]
    },
    {
     "name": "stdout",
     "output_type": "stream",
     "text": [
      "Epoch [1/30], Train Loss: 0.7443, Train Recall: 0.1806, Train Precision: 0.6891, Val Loss: 0.6698, Val Recall: 0.2157, Val Precision: 0.5946, Val F1 Score: 0.3165\n"
     ]
    },
    {
     "name": "stderr",
     "output_type": "stream",
     "text": [
      "100%|██████████| 15/15 [03:07<00:00, 12.50s/it]\n",
      "100%|██████████| 4/4 [00:16<00:00,  4.20s/it]\n"
     ]
    },
    {
     "name": "stdout",
     "output_type": "stream",
     "text": [
      "Epoch [2/30], Train Loss: 0.7128, Train Recall: 0.1784, Train Precision: 0.7105, Val Loss: 0.6743, Val Recall: 0.2255, Val Precision: 0.6053, Val F1 Score: 0.3286\n"
     ]
    },
    {
     "name": "stderr",
     "output_type": "stream",
     "text": [
      "100%|██████████| 15/15 [03:07<00:00, 12.50s/it]\n",
      "100%|██████████| 4/4 [00:15<00:00,  3.80s/it]\n"
     ]
    },
    {
     "name": "stdout",
     "output_type": "stream",
     "text": [
      "Epoch [3/30], Train Loss: 0.7271, Train Recall: 0.1784, Train Precision: 0.6639, Val Loss: 0.6859, Val Recall: 0.1765, Val Precision: 0.5143, Val F1 Score: 0.2628\n"
     ]
    },
    {
     "name": "stderr",
     "output_type": "stream",
     "text": [
      "100%|██████████| 15/15 [03:20<00:00, 13.36s/it]\n",
      "100%|██████████| 4/4 [00:16<00:00,  4.14s/it]\n"
     ]
    },
    {
     "name": "stdout",
     "output_type": "stream",
     "text": [
      "Epoch [4/30], Train Loss: 0.7228, Train Recall: 0.1894, Train Precision: 0.6880, Val Loss: 0.6863, Val Recall: 0.1961, Val Precision: 0.5405, Val F1 Score: 0.2878\n"
     ]
    },
    {
     "name": "stderr",
     "output_type": "stream",
     "text": [
      "100%|██████████| 15/15 [03:22<00:00, 13.51s/it]\n",
      "100%|██████████| 4/4 [00:16<00:00,  4.17s/it]\n"
     ]
    },
    {
     "name": "stdout",
     "output_type": "stream",
     "text": [
      "Epoch [5/30], Train Loss: 0.7433, Train Recall: 0.1828, Train Precision: 0.6640, Val Loss: 0.6885, Val Recall: 0.1863, Val Precision: 0.5429, Val F1 Score: 0.2774\n"
     ]
    },
    {
     "name": "stderr",
     "output_type": "stream",
     "text": [
      "100%|██████████| 15/15 [03:09<00:00, 12.66s/it]\n",
      "100%|██████████| 4/4 [00:14<00:00,  3.74s/it]\n"
     ]
    },
    {
     "name": "stdout",
     "output_type": "stream",
     "text": [
      "Epoch [6/30], Train Loss: 0.7202, Train Recall: 0.1806, Train Precision: 0.6891, Val Loss: 0.6836, Val Recall: 0.2059, Val Precision: 0.5833, Val F1 Score: 0.3043\n"
     ]
    },
    {
     "name": "stderr",
     "output_type": "stream",
     "text": [
      "100%|██████████| 15/15 [02:53<00:00, 11.55s/it]\n",
      "100%|██████████| 4/4 [00:14<00:00,  3.69s/it]\n"
     ]
    },
    {
     "name": "stdout",
     "output_type": "stream",
     "text": [
      "Epoch [7/30], Train Loss: 0.7464, Train Recall: 0.1828, Train Precision: 0.6748, Val Loss: 0.6872, Val Recall: 0.1961, Val Precision: 0.5714, Val F1 Score: 0.2920\n"
     ]
    },
    {
     "name": "stderr",
     "output_type": "stream",
     "text": [
      "100%|██████████| 15/15 [02:52<00:00, 11.53s/it]\n",
      "100%|██████████| 4/4 [00:15<00:00,  3.78s/it]\n"
     ]
    },
    {
     "name": "stdout",
     "output_type": "stream",
     "text": [
      "Epoch [8/30], Train Loss: 0.7269, Train Recall: 0.1806, Train Precision: 0.6949, Val Loss: 0.6971, Val Recall: 0.1569, Val Precision: 0.5161, Val F1 Score: 0.2406\n"
     ]
    },
    {
     "name": "stderr",
     "output_type": "stream",
     "text": [
      "100%|██████████| 15/15 [02:52<00:00, 11.48s/it]\n",
      "100%|██████████| 4/4 [00:15<00:00,  3.75s/it]\n"
     ]
    },
    {
     "name": "stdout",
     "output_type": "stream",
     "text": [
      "Epoch [9/30], Train Loss: 0.7425, Train Recall: 0.1916, Train Precision: 0.7500, Val Loss: 0.6967, Val Recall: 0.1471, Val Precision: 0.5172, Val F1 Score: 0.2290\n"
     ]
    },
    {
     "name": "stderr",
     "output_type": "stream",
     "text": [
      "100%|██████████| 15/15 [02:50<00:00, 11.36s/it]\n",
      "100%|██████████| 4/4 [00:15<00:00,  3.81s/it]\n"
     ]
    },
    {
     "name": "stdout",
     "output_type": "stream",
     "text": [
      "Epoch [10/30], Train Loss: 0.7573, Train Recall: 0.1938, Train Precision: 0.6875, Val Loss: 0.6893, Val Recall: 0.1863, Val Precision: 0.5588, Val F1 Score: 0.2794\n"
     ]
    },
    {
     "name": "stderr",
     "output_type": "stream",
     "text": [
      "100%|██████████| 15/15 [02:50<00:00, 11.33s/it]\n",
      "100%|██████████| 4/4 [00:15<00:00,  3.83s/it]\n"
     ]
    },
    {
     "name": "stdout",
     "output_type": "stream",
     "text": [
      "Epoch [11/30], Train Loss: 0.7337, Train Recall: 0.1718, Train Precision: 0.7091, Val Loss: 0.6915, Val Recall: 0.1667, Val Precision: 0.5312, Val F1 Score: 0.2537\n"
     ]
    },
    {
     "name": "stderr",
     "output_type": "stream",
     "text": [
      "100%|██████████| 15/15 [02:51<00:00, 11.45s/it]\n",
      "100%|██████████| 4/4 [00:14<00:00,  3.64s/it]\n"
     ]
    },
    {
     "name": "stdout",
     "output_type": "stream",
     "text": [
      "Epoch [12/30], Train Loss: 0.7302, Train Recall: 0.1872, Train Precision: 0.6855, Val Loss: 0.6776, Val Recall: 0.2059, Val Precision: 0.5676, Val F1 Score: 0.3022\n"
     ]
    },
    {
     "name": "stderr",
     "output_type": "stream",
     "text": [
      "100%|██████████| 15/15 [03:00<00:00, 12.01s/it]\n",
      "100%|██████████| 4/4 [00:14<00:00,  3.67s/it]\n"
     ]
    },
    {
     "name": "stdout",
     "output_type": "stream",
     "text": [
      "Epoch [13/30], Train Loss: 0.7306, Train Recall: 0.1916, Train Precision: 0.7073, Val Loss: 0.6792, Val Recall: 0.1961, Val Precision: 0.5714, Val F1 Score: 0.2920\n"
     ]
    },
    {
     "name": "stderr",
     "output_type": "stream",
     "text": [
      "100%|██████████| 15/15 [02:58<00:00, 11.89s/it]\n",
      "100%|██████████| 4/4 [00:15<00:00,  3.80s/it]\n"
     ]
    },
    {
     "name": "stdout",
     "output_type": "stream",
     "text": [
      "Epoch [14/30], Train Loss: 0.7257, Train Recall: 0.1806, Train Precision: 0.7009, Val Loss: 0.6798, Val Recall: 0.2059, Val Precision: 0.5833, Val F1 Score: 0.3043\n"
     ]
    },
    {
     "name": "stderr",
     "output_type": "stream",
     "text": [
      "100%|██████████| 15/15 [03:04<00:00, 12.32s/it]\n",
      "100%|██████████| 4/4 [00:14<00:00,  3.74s/it]\n"
     ]
    },
    {
     "name": "stdout",
     "output_type": "stream",
     "text": [
      "Epoch [15/30], Train Loss: 0.7599, Train Recall: 0.1806, Train Precision: 0.6949, Val Loss: 0.6856, Val Recall: 0.1373, Val Precision: 0.4828, Val F1 Score: 0.2137\n"
     ]
    },
    {
     "name": "stderr",
     "output_type": "stream",
     "text": [
      "100%|██████████| 15/15 [03:05<00:00, 12.36s/it]\n",
      "100%|██████████| 4/4 [00:15<00:00,  3.78s/it]\n"
     ]
    },
    {
     "name": "stdout",
     "output_type": "stream",
     "text": [
      "Epoch [16/30], Train Loss: 0.7401, Train Recall: 0.1762, Train Precision: 0.6957, Val Loss: 0.6830, Val Recall: 0.1961, Val Precision: 0.5714, Val F1 Score: 0.2920\n"
     ]
    },
    {
     "name": "stderr",
     "output_type": "stream",
     "text": [
      "100%|██████████| 15/15 [03:05<00:00, 12.36s/it]\n",
      "100%|██████████| 4/4 [00:14<00:00,  3.66s/it]\n"
     ]
    },
    {
     "name": "stdout",
     "output_type": "stream",
     "text": [
      "Epoch [17/30], Train Loss: 0.7236, Train Recall: 0.1762, Train Precision: 0.6723, Val Loss: 0.6787, Val Recall: 0.2059, Val Precision: 0.5676, Val F1 Score: 0.3022\n"
     ]
    },
    {
     "name": "stderr",
     "output_type": "stream",
     "text": [
      "100%|██████████| 15/15 [03:08<00:00, 12.56s/it]\n",
      "100%|██████████| 4/4 [00:15<00:00,  3.76s/it]\n"
     ]
    },
    {
     "name": "stdout",
     "output_type": "stream",
     "text": [
      "Epoch [18/30], Train Loss: 0.7378, Train Recall: 0.1696, Train Precision: 0.6814, Val Loss: 0.6789, Val Recall: 0.2059, Val Precision: 0.5833, Val F1 Score: 0.3043\n"
     ]
    },
    {
     "name": "stderr",
     "output_type": "stream",
     "text": [
      "100%|██████████| 15/15 [03:09<00:00, 12.66s/it]\n",
      "100%|██████████| 4/4 [00:14<00:00,  3.51s/it]\n"
     ]
    },
    {
     "name": "stdout",
     "output_type": "stream",
     "text": [
      "Epoch [19/30], Train Loss: 0.7516, Train Recall: 0.1938, Train Precision: 0.7273, Val Loss: 0.6905, Val Recall: 0.1863, Val Precision: 0.5588, Val F1 Score: 0.2794\n"
     ]
    },
    {
     "name": "stderr",
     "output_type": "stream",
     "text": [
      "100%|██████████| 15/15 [02:52<00:00, 11.51s/it]\n",
      "100%|██████████| 4/4 [00:13<00:00,  3.43s/it]\n"
     ]
    },
    {
     "name": "stdout",
     "output_type": "stream",
     "text": [
      "Epoch [20/30], Train Loss: 0.7128, Train Recall: 0.1806, Train Precision: 0.6891, Val Loss: 0.6782, Val Recall: 0.2059, Val Precision: 0.5833, Val F1 Score: 0.3043\n"
     ]
    },
    {
     "name": "stderr",
     "output_type": "stream",
     "text": [
      "100%|██████████| 15/15 [02:53<00:00, 11.56s/it]\n",
      "100%|██████████| 4/4 [00:15<00:00,  3.99s/it]\n"
     ]
    },
    {
     "name": "stdout",
     "output_type": "stream",
     "text": [
      "Epoch [21/30], Train Loss: 0.7488, Train Recall: 0.1828, Train Precision: 0.6640, Val Loss: 0.6784, Val Recall: 0.1961, Val Precision: 0.5556, Val F1 Score: 0.2899\n"
     ]
    },
    {
     "name": "stderr",
     "output_type": "stream",
     "text": [
      "100%|██████████| 15/15 [02:50<00:00, 11.39s/it]\n",
      "100%|██████████| 4/4 [00:17<00:00,  4.29s/it]\n"
     ]
    },
    {
     "name": "stdout",
     "output_type": "stream",
     "text": [
      "Epoch [22/30], Train Loss: 0.7489, Train Recall: 0.1784, Train Precision: 0.6750, Val Loss: 0.6800, Val Recall: 0.1863, Val Precision: 0.5429, Val F1 Score: 0.2774\n"
     ]
    },
    {
     "name": "stderr",
     "output_type": "stream",
     "text": [
      "100%|██████████| 15/15 [02:59<00:00, 11.94s/it]\n",
      "100%|██████████| 4/4 [00:20<00:00,  5.17s/it]\n"
     ]
    },
    {
     "name": "stdout",
     "output_type": "stream",
     "text": [
      "Epoch [23/30], Train Loss: 0.7330, Train Recall: 0.1806, Train Precision: 0.6949, Val Loss: 0.6786, Val Recall: 0.1961, Val Precision: 0.5714, Val F1 Score: 0.2920\n"
     ]
    },
    {
     "name": "stderr",
     "output_type": "stream",
     "text": [
      "100%|██████████| 15/15 [03:24<00:00, 13.63s/it]\n",
      "100%|██████████| 4/4 [00:14<00:00,  3.74s/it]\n"
     ]
    },
    {
     "name": "stdout",
     "output_type": "stream",
     "text": [
      "Epoch [24/30], Train Loss: 0.7191, Train Recall: 0.1784, Train Precision: 0.6923, Val Loss: 0.6798, Val Recall: 0.2059, Val Precision: 0.5833, Val F1 Score: 0.3043\n"
     ]
    },
    {
     "name": "stderr",
     "output_type": "stream",
     "text": [
      "100%|██████████| 15/15 [03:16<00:00, 13.13s/it]\n",
      "100%|██████████| 4/4 [00:15<00:00,  3.86s/it]\n"
     ]
    },
    {
     "name": "stdout",
     "output_type": "stream",
     "text": [
      "Epoch [25/30], Train Loss: 0.7477, Train Recall: 0.1762, Train Precision: 0.6299, Val Loss: 0.6819, Val Recall: 0.1765, Val Precision: 0.5455, Val F1 Score: 0.2667\n"
     ]
    },
    {
     "name": "stderr",
     "output_type": "stream",
     "text": [
      "100%|██████████| 15/15 [03:01<00:00, 12.10s/it]\n",
      "100%|██████████| 4/4 [00:15<00:00,  3.95s/it]\n"
     ]
    },
    {
     "name": "stdout",
     "output_type": "stream",
     "text": [
      "Epoch [26/30], Train Loss: 0.7290, Train Recall: 0.1916, Train Precision: 0.7016, Val Loss: 0.6847, Val Recall: 0.1961, Val Precision: 0.5714, Val F1 Score: 0.2920\n"
     ]
    },
    {
     "name": "stderr",
     "output_type": "stream",
     "text": [
      "100%|██████████| 15/15 [03:03<00:00, 12.21s/it]\n",
      "100%|██████████| 4/4 [00:15<00:00,  3.83s/it]\n"
     ]
    },
    {
     "name": "stdout",
     "output_type": "stream",
     "text": [
      "Epoch [27/30], Train Loss: 0.7178, Train Recall: 0.1872, Train Precision: 0.6911, Val Loss: 0.6806, Val Recall: 0.2059, Val Precision: 0.5676, Val F1 Score: 0.3022\n"
     ]
    },
    {
     "name": "stderr",
     "output_type": "stream",
     "text": [
      "100%|██████████| 15/15 [03:24<00:00, 13.63s/it]\n",
      "100%|██████████| 4/4 [00:14<00:00,  3.65s/it]\n"
     ]
    },
    {
     "name": "stdout",
     "output_type": "stream",
     "text": [
      "Epoch [28/30], Train Loss: 0.7427, Train Recall: 0.1652, Train Precision: 0.6522, Val Loss: 0.6850, Val Recall: 0.1961, Val Precision: 0.5714, Val F1 Score: 0.2920\n"
     ]
    },
    {
     "name": "stderr",
     "output_type": "stream",
     "text": [
      "100%|██████████| 15/15 [03:12<00:00, 12.84s/it]\n",
      "100%|██████████| 4/4 [00:16<00:00,  4.18s/it]\n"
     ]
    },
    {
     "name": "stdout",
     "output_type": "stream",
     "text": [
      "Epoch [29/30], Train Loss: 0.7275, Train Recall: 0.1894, Train Precision: 0.7049, Val Loss: 0.6837, Val Recall: 0.1961, Val Precision: 0.5714, Val F1 Score: 0.2920\n"
     ]
    },
    {
     "name": "stderr",
     "output_type": "stream",
     "text": [
      "100%|██████████| 15/15 [03:10<00:00, 12.68s/it]\n",
      "100%|██████████| 4/4 [00:14<00:00,  3.60s/it]\n"
     ]
    },
    {
     "name": "stdout",
     "output_type": "stream",
     "text": [
      "Epoch [30/30], Train Loss: 0.7533, Train Recall: 0.1916, Train Precision: 0.6744, Val Loss: 0.6872, Val Recall: 0.1863, Val Precision: 0.5588, Val F1 Score: 0.2794\n"
     ]
    }
   ],
   "source": [
    "train_losses_a, val_losses_a = [], []\n",
    "train_recalls_a, train_precisions_a = [], []\n",
    "val_recalls_a, val_precisions_a = [], []\n",
    "num_epochs = 30\n",
    "for epoch in range(num_epochs):\n",
    "    model_a.train()\n",
    "    running_loss = 0.0\n",
    "    all_train_labels = []\n",
    "    all_train_predictions = []\n",
    "\n",
    "    for images, labels in tqdm(train_loader_a):\n",
    "        images, labels = images.to(device), labels.to(device)\n",
    "        optimizer.zero_grad()\n",
    "        outputs = model_a(images)\n",
    "        loss = criterion(outputs, labels)\n",
    "        loss.backward()\n",
    "        optimizer.step()\n",
    "\n",
    "        running_loss += loss.item()\n",
    "\n",
    "        _, predicted = outputs.max(1)\n",
    "        all_train_labels.extend(labels.cpu().numpy())\n",
    "        all_train_predictions.extend(predicted.cpu().numpy())\n",
    "\n",
    "    train_loss = running_loss / len(train_loader_a)\n",
    "    train_losses_a.append(train_loss)\n",
    "\n",
    "    train_precision = precision_score(all_train_labels, all_train_predictions, average='binary', zero_division=0)\n",
    "    train_recall = recall_score(all_train_labels, all_train_predictions, average='binary', zero_division=0)\n",
    "    train_f1 = f1_score(all_train_labels, all_train_predictions, average='binary', zero_division=0)\n",
    "    \n",
    "    train_precisions_a.append(train_precision)\n",
    "    train_recalls_a.append(train_recall)\n",
    "    \n",
    "    model_a.eval()\n",
    "    val_loss = 0.0\n",
    "    all_val_labels = []\n",
    "    all_val_predictions = []\n",
    "\n",
    "    with torch.no_grad():\n",
    "        for images, labels in tqdm(val_loader_a):\n",
    "            images, labels = images.to(device), labels.to(device)\n",
    "            outputs = model_a(images)\n",
    "            loss = criterion(outputs, labels)\n",
    "\n",
    "            val_loss += loss.item()\n",
    "\n",
    "            _, predicted = outputs.max(1)\n",
    "            all_val_labels.extend(labels.cpu().numpy())\n",
    "            all_val_predictions.extend(predicted.cpu().numpy())\n",
    "\n",
    "    val_loss /= len(val_loader_a)\n",
    "    val_losses_a.append(val_loss)\n",
    "\n",
    "    val_precision = precision_score(all_val_labels, all_val_predictions, average='binary',  zero_division=0)\n",
    "    val_recall = recall_score(all_val_labels, all_val_predictions, average='binary',  zero_division=0)\n",
    "    val_f1 = f1_score(all_val_labels, all_val_predictions, average='binary',  zero_division=0)\n",
    "    val_precisions_a.append(val_precision)\n",
    "    val_recalls_a.append(val_recall)\n",
    "    print(f'Epoch [{epoch+1}/{num_epochs}], '\n",
    "          f'Train Loss: {train_loss:.4f}, Train Recall: {train_recall:.4f}, Train Precision: {train_precision:.4f}, '\n",
    "          f'Val Loss: {val_loss:.4f}, Val Recall: {val_recall:.4f}, Val Precision: {val_precision:.4f}, Val F1 Score: {val_f1:.4f}')\n",
    "\n",
    "    if val_f1 > best_f1_score:\n",
    "        best_f1_score = val_f1\n",
    "        torch.save(model_a.state_dict(), 'best_model.pth')\n",
    "        print('Saved best model!')\n",
    "\n",
    "torch.save(model.state_dict(), 'last_model.pth')\n",
    "print()"
   ],
   "metadata": {
    "collapsed": false,
    "ExecuteTime": {
     "end_time": "2024-10-17T12:25:17.433189300Z",
     "start_time": "2024-10-17T10:45:26.899419500Z"
    }
   },
   "id": "ad62c7c19313bebe"
  },
  {
   "cell_type": "markdown",
   "source": [
    "Результаты получились ещё менее впечатляющие, за 30 эпох модель практически не сдвинулась с места. Метрика Precision выдавала довольно приемлемые значения, в то время как recall не сдвигалась со значения 0.2. \n",
    "\n",
    "С другой стороны, так как мы решаем задачу бинарной классификации, модель, показывающая сильно плохой результат может работать достаточно хорошо при изменении меток классов на противоположные. "
   ],
   "metadata": {
    "collapsed": false
   },
   "id": "f86e5a42bee8d23a"
  },
  {
   "cell_type": "markdown",
   "source": [
    "### Тестируем модель на тестовой выборке.\n",
    "\n",
    "Берём модель, показавшую наилучший результат в процессе обучения."
   ],
   "metadata": {
    "collapsed": false
   },
   "id": "9f1d0d0249313158"
  },
  {
   "cell_type": "code",
   "execution_count": 146,
   "outputs": [
    {
     "name": "stderr",
     "output_type": "stream",
     "text": [
      "C:\\Users\\Даниил\\AppData\\Local\\Temp\\ipykernel_16436\\3050495514.py:3: FutureWarning: You are using `torch.load` with `weights_only=False` (the current default value), which uses the default pickle module implicitly. It is possible to construct malicious pickle data which will execute arbitrary code during unpickling (See https://github.com/pytorch/pytorch/blob/main/SECURITY.md#untrusted-models for more details). In a future release, the default value for `weights_only` will be flipped to `True`. This limits the functions that could be executed during unpickling. Arbitrary objects will no longer be allowed to be loaded via this mode unless they are explicitly allowlisted by the user via `torch.serialization.add_safe_globals`. We recommend you start setting `weights_only=True` for any use case where you don't have full control of the loaded file. Please open an issue on GitHub for any issues related to this experimental feature.\n",
      "  model.load_state_dict(torch.load('best_model.pth'))\n"
     ]
    },
    {
     "data": {
      "text/plain": "ResNet(\n  (conv1): Conv2d(3, 64, kernel_size=(7, 7), stride=(2, 2), padding=(3, 3), bias=False)\n  (bn1): BatchNorm2d(64, eps=1e-05, momentum=0.1, affine=True, track_running_stats=True)\n  (relu): ReLU(inplace=True)\n  (maxpool): MaxPool2d(kernel_size=3, stride=2, padding=1, dilation=1, ceil_mode=False)\n  (layer1): Sequential(\n    (0): BasicBlock(\n      (conv1): Conv2d(64, 64, kernel_size=(3, 3), stride=(1, 1), padding=(1, 1), bias=False)\n      (bn1): BatchNorm2d(64, eps=1e-05, momentum=0.1, affine=True, track_running_stats=True)\n      (relu): ReLU(inplace=True)\n      (conv2): Conv2d(64, 64, kernel_size=(3, 3), stride=(1, 1), padding=(1, 1), bias=False)\n      (bn2): BatchNorm2d(64, eps=1e-05, momentum=0.1, affine=True, track_running_stats=True)\n    )\n    (1): BasicBlock(\n      (conv1): Conv2d(64, 64, kernel_size=(3, 3), stride=(1, 1), padding=(1, 1), bias=False)\n      (bn1): BatchNorm2d(64, eps=1e-05, momentum=0.1, affine=True, track_running_stats=True)\n      (relu): ReLU(inplace=True)\n      (conv2): Conv2d(64, 64, kernel_size=(3, 3), stride=(1, 1), padding=(1, 1), bias=False)\n      (bn2): BatchNorm2d(64, eps=1e-05, momentum=0.1, affine=True, track_running_stats=True)\n    )\n  )\n  (layer2): Sequential(\n    (0): BasicBlock(\n      (conv1): Conv2d(64, 128, kernel_size=(3, 3), stride=(2, 2), padding=(1, 1), bias=False)\n      (bn1): BatchNorm2d(128, eps=1e-05, momentum=0.1, affine=True, track_running_stats=True)\n      (relu): ReLU(inplace=True)\n      (conv2): Conv2d(128, 128, kernel_size=(3, 3), stride=(1, 1), padding=(1, 1), bias=False)\n      (bn2): BatchNorm2d(128, eps=1e-05, momentum=0.1, affine=True, track_running_stats=True)\n      (downsample): Sequential(\n        (0): Conv2d(64, 128, kernel_size=(1, 1), stride=(2, 2), bias=False)\n        (1): BatchNorm2d(128, eps=1e-05, momentum=0.1, affine=True, track_running_stats=True)\n      )\n    )\n    (1): BasicBlock(\n      (conv1): Conv2d(128, 128, kernel_size=(3, 3), stride=(1, 1), padding=(1, 1), bias=False)\n      (bn1): BatchNorm2d(128, eps=1e-05, momentum=0.1, affine=True, track_running_stats=True)\n      (relu): ReLU(inplace=True)\n      (conv2): Conv2d(128, 128, kernel_size=(3, 3), stride=(1, 1), padding=(1, 1), bias=False)\n      (bn2): BatchNorm2d(128, eps=1e-05, momentum=0.1, affine=True, track_running_stats=True)\n    )\n  )\n  (layer3): Sequential(\n    (0): BasicBlock(\n      (conv1): Conv2d(128, 256, kernel_size=(3, 3), stride=(2, 2), padding=(1, 1), bias=False)\n      (bn1): BatchNorm2d(256, eps=1e-05, momentum=0.1, affine=True, track_running_stats=True)\n      (relu): ReLU(inplace=True)\n      (conv2): Conv2d(256, 256, kernel_size=(3, 3), stride=(1, 1), padding=(1, 1), bias=False)\n      (bn2): BatchNorm2d(256, eps=1e-05, momentum=0.1, affine=True, track_running_stats=True)\n      (downsample): Sequential(\n        (0): Conv2d(128, 256, kernel_size=(1, 1), stride=(2, 2), bias=False)\n        (1): BatchNorm2d(256, eps=1e-05, momentum=0.1, affine=True, track_running_stats=True)\n      )\n    )\n    (1): BasicBlock(\n      (conv1): Conv2d(256, 256, kernel_size=(3, 3), stride=(1, 1), padding=(1, 1), bias=False)\n      (bn1): BatchNorm2d(256, eps=1e-05, momentum=0.1, affine=True, track_running_stats=True)\n      (relu): ReLU(inplace=True)\n      (conv2): Conv2d(256, 256, kernel_size=(3, 3), stride=(1, 1), padding=(1, 1), bias=False)\n      (bn2): BatchNorm2d(256, eps=1e-05, momentum=0.1, affine=True, track_running_stats=True)\n    )\n  )\n  (layer4): Sequential(\n    (0): BasicBlock(\n      (conv1): Conv2d(256, 512, kernel_size=(3, 3), stride=(2, 2), padding=(1, 1), bias=False)\n      (bn1): BatchNorm2d(512, eps=1e-05, momentum=0.1, affine=True, track_running_stats=True)\n      (relu): ReLU(inplace=True)\n      (conv2): Conv2d(512, 512, kernel_size=(3, 3), stride=(1, 1), padding=(1, 1), bias=False)\n      (bn2): BatchNorm2d(512, eps=1e-05, momentum=0.1, affine=True, track_running_stats=True)\n      (downsample): Sequential(\n        (0): Conv2d(256, 512, kernel_size=(1, 1), stride=(2, 2), bias=False)\n        (1): BatchNorm2d(512, eps=1e-05, momentum=0.1, affine=True, track_running_stats=True)\n      )\n    )\n    (1): BasicBlock(\n      (conv1): Conv2d(512, 512, kernel_size=(3, 3), stride=(1, 1), padding=(1, 1), bias=False)\n      (bn1): BatchNorm2d(512, eps=1e-05, momentum=0.1, affine=True, track_running_stats=True)\n      (relu): ReLU(inplace=True)\n      (conv2): Conv2d(512, 512, kernel_size=(3, 3), stride=(1, 1), padding=(1, 1), bias=False)\n      (bn2): BatchNorm2d(512, eps=1e-05, momentum=0.1, affine=True, track_running_stats=True)\n    )\n  )\n  (avgpool): AdaptiveAvgPool2d(output_size=(1, 1))\n  (fc): Linear(in_features=512, out_features=2, bias=True)\n)"
     },
     "execution_count": 146,
     "metadata": {},
     "output_type": "execute_result"
    }
   ],
   "source": [
    "model = models.resnet18() \n",
    "model.fc = nn.Linear(512, 2)  \n",
    "model.load_state_dict(torch.load('best_model.pth'))  \n",
    "model.to(device)\n",
    "model.eval()\n"
   ],
   "metadata": {
    "collapsed": false,
    "ExecuteTime": {
     "end_time": "2024-10-17T13:55:38.776083700Z",
     "start_time": "2024-10-17T13:55:37.949528600Z"
    }
   },
   "id": "d2a5240e7346e113"
  },
  {
   "cell_type": "markdown",
   "source": [
    "Запускаем на ней тестовые данные."
   ],
   "metadata": {
    "collapsed": false
   },
   "id": "b4e85dbe7a41856e"
  },
  {
   "cell_type": "code",
   "execution_count": 139,
   "outputs": [
    {
     "name": "stderr",
     "output_type": "stream",
     "text": [
      "100%|██████████| 2/2 [00:06<00:00,  3.50s/it]"
     ]
    },
    {
     "name": "stdout",
     "output_type": "stream",
     "text": [
      "Test Precision: 0.6137\n",
      "Test Recall: 0.6000\n",
      "Test F1 Score: 0.6030\n"
     ]
    },
    {
     "name": "stderr",
     "output_type": "stream",
     "text": [
      "\n"
     ]
    }
   ],
   "source": [
    "all_test_labels = []\n",
    "all_test_predictions = []\n",
    "\n",
    "with torch.no_grad():\n",
    "    for images, labels in tqdm(test_loader):\n",
    "        images, labels = images.to(device), labels.to(device)\n",
    "        outputs = model(images)\n",
    "        _, predicted = outputs.max(1)\n",
    "\n",
    "        all_test_labels.extend(labels.cpu().numpy())\n",
    "        all_test_predictions.extend(predicted.cpu().numpy())\n",
    "\n",
    "test_precision = precision_score(all_test_labels, all_test_predictions, average='weighted')\n",
    "test_recall = recall_score(all_test_labels, all_test_predictions, average='weighted')\n",
    "test_f1 = f1_score(all_test_labels, all_test_predictions, average='weighted')\n",
    "test_accuracy = accuracy_score(all_test_labels, all_test_predictions)\n",
    "print(f'Test Precision: {test_precision:.4f}')\n",
    "print(f'Test Recall: {test_recall:.4f}')\n",
    "print(f'Test F1 Score: {test_f1:.4f}')"
   ],
   "metadata": {
    "collapsed": false,
    "ExecuteTime": {
     "end_time": "2024-10-17T12:26:26.252657100Z",
     "start_time": "2024-10-17T12:26:19.186342Z"
    }
   },
   "id": "8973b0c77cc286b0"
  },
  {
   "cell_type": "markdown",
   "source": [
    "Результаты уступают тому, что выдавала модель на тренировочных и валидационных данных. Однако, это всё ещё лучше чем бейслайн. Лучшего результата можно было бы достигнуть обучением на большем числе эпох, а также увеличением датасета, либо более качественным его сбором. Возможно стоило использовать какие-то более сложные модели в процессе обучения, но мощность моего компьютера плохо позволяла мне это сделать. "
   ],
   "metadata": {
    "collapsed": false
   },
   "id": "f29156bd4d9e8f18"
  },
  {
   "cell_type": "code",
   "execution_count": 140,
   "outputs": [
    {
     "data": {
      "text/plain": "<Figure size 800x600 with 1 Axes>",
      "image/png": "[encoded data removed]"
     },
     "metadata": {},
     "output_type": "display_data"
    }
   ],
   "source": [
    "from sklearn.metrics import confusion_matrix\n",
    "import seaborn as sns\n",
    "import matplotlib.pyplot as plt\n",
    "\n",
    "cm = confusion_matrix(all_labels, all_predictions) \n",
    "\n",
    "plt.figure(figsize=(8, 6))\n",
    "sns.heatmap(cm, annot=True, fmt='d', cmap='Blues', cbar=False, \n",
    "            xticklabels=['Predicted Negative', 'Predicted Positive'], \n",
    "            yticklabels=['Actual Negative', 'Actual Positive'])\n",
    "plt.xlabel('Predicted')\n",
    "plt.ylabel('Actual')\n",
    "plt.title('Confusion Matrix')\n",
    "plt.show()"
   ],
   "metadata": {
    "collapsed": false,
    "ExecuteTime": {
     "end_time": "2024-10-17T12:27:10.756651200Z",
     "start_time": "2024-10-17T12:27:10.176653300Z"
    }
   },
   "id": "e7a143fb6b44acab"
  }
 ],
 "metadata": {
  "kernelspec": {
   "display_name": "Python 3",
   "language": "python",
   "name": "python3"
  },
  "language_info": {
   "codemirror_mode": {
    "name": "ipython",
    "version": 2
   },
   "file_extension": ".py",
   "mimetype": "text/x-python",
   "name": "python",
   "nbconvert_exporter": "python",
   "pygments_lexer": "ipython2",
   "version": "2.7.6"
  }
 },
 "nbformat": 4,
 "nbformat_minor": 5
}
